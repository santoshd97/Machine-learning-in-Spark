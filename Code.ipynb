{
 "cells": [
  {
   "cell_type": "markdown",
   "metadata": {},
   "source": [
    "# <center>Predicting Year in Million Song Dataset using Spark</center>"
   ]
  },
  {
   "cell_type": "code",
   "execution_count": 1,
   "metadata": {},
   "outputs": [],
   "source": [
    "from pyspark import SparkConf                                                                                                                 \n",
    "from pyspark.context import SparkContext                                                                                                      \n",
    "from pyspark.sql import SparkSession, SQLContext\n",
    "\n",
    "sc = SparkContext('local')\n",
    "spark = SparkSession(sc)"
   ]
  },
  {
   "cell_type": "code",
   "execution_count": 2,
   "metadata": {},
   "outputs": [
    {
     "name": "stdout",
     "output_type": "stream",
     "text": [
      "Training data points = 361094 \n",
      "Validation data points = 51401 \n",
      "Test data points = 102850\n"
     ]
    }
   ],
   "source": [
    "from pyspark import *\n",
    "from pyspark.sql import *\n",
    "from pyspark.sql.functions import *\n",
    "import pyspark.sql.functions as F\n",
    "from pyspark.sql.types import *\n",
    "from pyspark.ml.feature import *\n",
    "from pyspark.ml.classification import *\n",
    "from pyspark.ml.evaluation import *\n",
    "from pyspark.mllib.regression import LabeledPoint\n",
    "from pyspark.mllib.linalg import Vectors\n",
    "import pandas as pd\n",
    "\n",
    "# Load the dataset\n",
    "data = spark.read.csv('/Users/santoshdaptardar/Documents/ML with Spark/Data/MSD.txt', header=False, inferSchema=True)\n",
    "\n",
    "# Using MinMax Scaler to scale the features from 0-1\n",
    "v_assembler = VectorAssembler(inputCols=data.columns[1:], outputCol=\"features\")\n",
    "v_data = v_assembler.transform(data)\n",
    "scaler = MinMaxScaler(inputCol='features', outputCol='scaled_features')\n",
    "scale_model = scaler.fit(v_data)\n",
    "scaled_data = scale_model.transform(v_data)\n",
    "new_data = scaled_data.select(col('_c0').alias('label'), col('scaled_features').alias('features'))\n",
    "\n",
    "# Get min and max year and normalize the labels by subtracting min year\n",
    "min_year = new_data.agg({'label': 'min'}); max_year = new_data.agg({'label': 'max'})\n",
    "min_year = min_year.take(1)[0][0]; max_year = max_year.take(1)[0][0]\n",
    "normalize = udf(lambda x: x - min_year)\n",
    "final_data = new_data.withColumn('new_label', normalize('label')).drop('label'). \\\n",
    "                    select(F.col('new_label').cast(FloatType()).alias('label'), 'features')\n",
    "\n",
    "# Split data into train(70%), validation(10%) and test set(20%)\n",
    "train, valid, test = final_data.randomSplit([0.7, 0.1, 0.2], seed = 15)\n",
    "print('Training data points =', train.count(), '\\nValidation data points =', valid.count(), \\\n",
    "      '\\nTest data points =', test.count())"
   ]
  },
  {
   "cell_type": "code",
   "execution_count": 3,
   "metadata": {},
   "outputs": [
    {
     "name": "stdout",
     "output_type": "stream",
     "text": [
      "RMSE on training data: 9.73110493081151\n",
      "R2 on training data: 0.20844442735444624\n",
      "+------------------+-----+--------------------+\n",
      "|        prediction|label|            features|\n",
      "+------------------+-----+--------------------+\n",
      "| 71.25992013197201|  4.0|[0.42914797029747...|\n",
      "|  73.0329588968724|  5.0|[0.40366040895273...|\n",
      "| 70.63080174332009|  5.0|[0.61111563148754...|\n",
      "| 63.40511271451693|  7.0|[0.34348004703995...|\n",
      "|61.491258193561116|  7.0|[0.41340084229557...|\n",
      "| 65.05011619129431|  7.0|[0.47933516369832...|\n",
      "| 69.80251228885477|  7.0|[0.53848233361241...|\n",
      "| 69.30783498341364|  7.0|[0.56090668492824...|\n",
      "| 63.67824871230167|  8.0|[0.56175240123318...|\n",
      "|62.961593641592316|  9.0|[0.58430195775104...|\n",
      "+------------------+-----+--------------------+\n",
      "only showing top 10 rows\n",
      "\n",
      "R Squared (R2) on validation data = 0.20542184681861064\n",
      "Root Mean Squared Error (RMSE) on validation set = 9.718869730751331\n",
      "\n",
      "objectiveHistory:\n",
      "(51, 2)\n"
     ]
    }
   ],
   "source": [
    "# Using linear regression model\n",
    "from pyspark.ml.regression import LinearRegression\n",
    "lrm = LinearRegression(featuresCol = 'features', labelCol='label', maxIter=50, regParam=0.3, elasticNetParam=0.8)\n",
    "\n",
    "# Fit the model\n",
    "lr_Model = lrm.fit(train)\n",
    "trainingSummary = lr_Model.summary\n",
    "\n",
    "# Summarize the model over the training set and print out some metrics\n",
    "print(\"RMSE on training data:\", trainingSummary.rootMeanSquaredError)\n",
    "print(\"R2 on training data:\", trainingSummary.r2)\n",
    "\n",
    "# Evaluating the model based on validation set.\n",
    "lr_val_predictions = lr_Model.transform(valid)\n",
    "lr_val_predictions.select(\"prediction\",\"label\",\"features\").show(10)\n",
    "\n",
    "from pyspark.ml.evaluation import RegressionEvaluator\n",
    "lr_evaluator = RegressionEvaluator(predictionCol=\"prediction\", labelCol=\"label\", metricName=\"r2\")\n",
    "\n",
    "print(\"R Squared (R2) on validation data =\", lr_evaluator.evaluate(lr_val_predictions))\n",
    "\n",
    "val_result = lr_Model.evaluate(valid)\n",
    "print(\"Root Mean Squared Error (RMSE) on validation set =\", val_result.rootMeanSquaredError)\n",
    "\n",
    "# Obtain the objective per iteration\n",
    "objectiveHistory = trainingSummary.objectiveHistory\n",
    "print(\"\\nobjectiveHistory:\")\n",
    "\n",
    "# Collecting training error for each iteration using a dataframe\n",
    "training_error_df = pd.DataFrame(columns=['iteration', 'training_error'])\n",
    "i = 0\n",
    "\n",
    "for objective in objectiveHistory:\n",
    "    i += 1\n",
    "    training_error_df = training_error_df.append({'iteration': i, 'training_error': 10 ** (objective)}, ignore_index=True)\n",
    "\n",
    "print(training_error_df.shape)"
   ]
  },
  {
   "cell_type": "code",
   "execution_count": 6,
   "metadata": {},
   "outputs": [
    {
     "data": {
      "image/png": "[encoded data removed]",
      "text/plain": [
       "<Figure size 432x288 with 1 Axes>"
      ]
     },
     "metadata": {
      "needs_background": "light"
     },
     "output_type": "display_data"
    }
   ],
   "source": [
    "import matplotlib.pyplot as plt\n",
    "\n",
    "axes = plt.gca()\n",
    "axes.set_xlim([0,60])\n",
    "axes.set_ylim([2,4])\n",
    "\n",
    "plt.scatter(training_error_df['iteration'], training_error_df['training_error'], \\\n",
    "            s=14**2, c='red', alpha=0.5)\n",
    "axes.set_title(\"Scatter plot of training error and iterations\", fontsize=15)\n",
    "axes.set_xlabel('Iteration', fontsize=12)\n",
    "axes.set_ylabel('Training Error', fontsize=12)\n",
    "plt.show()"
   ]
  },
  {
   "cell_type": "code",
   "execution_count": 7,
   "metadata": {},
   "outputs": [
    {
     "name": "stdout",
     "output_type": "stream",
     "text": [
      "Root Mean Squared Error (RMSE) on test data = 9.744908828244753\n"
     ]
    }
   ],
   "source": [
    "test_result = lr_Model.evaluate(test)\n",
    "print(\"Root Mean Squared Error (RMSE) on test data =\", test_result.rootMeanSquaredError)"
   ]
  },
  {
   "cell_type": "code",
   "execution_count": null,
   "metadata": {},
   "outputs": [],
   "source": []
  }
 ],
 "metadata": {
  "kernelspec": {
   "display_name": "Python 3",
   "language": "python",
   "name": "python3"
  },
  "language_info": {
   "codemirror_mode": {
    "name": "ipython",
    "version": 3
   },
   "file_extension": ".py",
   "mimetype": "text/x-python",
   "name": "python",
   "nbconvert_exporter": "python",
   "pygments_lexer": "ipython3",
   "version": "3.7.4"
  }
 },
 "nbformat": 4,
 "nbformat_minor": 2
}
